{
 "cells": [
  {
   "cell_type": "code",
   "execution_count": 4,
   "id": "895fb0ba",
   "metadata": {},
   "outputs": [
    {
     "name": "stdout",
     "output_type": "stream",
     "text": [
      "/opt/workspace/Project/median_filter.py:7: DeprecationWarning: Starting with ImageIO v3 the behavior of this function will switch to that of iio.v3.imread. To keep the current behavior (and make this warning disappear) use `import imageio.v2 as imageio` or call `imageio.v2.imread` directly.\n",
      "  img = imageio.imread(path)\n",
      "SHAPE (128, 128, 3)\n",
      "IMG\n",
      " [[[233 159 122]\n",
      "  [228 159 118]\n",
      "  [223 165 115]\n",
      "  ...\n",
      "  [181 116  98]\n",
      "  [231 165 153]\n",
      "  [223 156 147]]\n",
      "\n",
      " [[220 155 127]\n",
      "  [226 166 132]\n",
      "  [232 179 139]\n",
      "  ...\n",
      "  [199 134 116]\n",
      "  [205 139 125]\n",
      "  [162  98  86]]\n",
      "\n",
      " [[207 161 148]\n",
      "  [206 160 144]\n",
      "  [254 209 188]\n",
      "  ...\n",
      "  [156  93  75]\n",
      "  [134  71  56]\n",
      "  [114  52  37]]\n",
      "\n",
      " ...\n",
      "\n",
      " [[ 88  52  56]\n",
      "  [155 119 123]\n",
      "  [109  68  76]\n",
      "  ...\n",
      "  [131  78 108]\n",
      "  [104  55  74]\n",
      "  [107  61  72]]\n",
      "\n",
      " [[ 93  62  70]\n",
      "  [219 186 193]\n",
      "  [ 95  56  59]\n",
      "  ...\n",
      "  [100  56  71]\n",
      "  [118  82  96]\n",
      "  [122  90 105]]\n",
      "\n",
      " [[ 89  62  71]\n",
      "  [ 81  50  56]\n",
      "  [ 86  47  50]\n",
      "  ...\n",
      "  [109  69  77]\n",
      "  [125  94 109]\n",
      "  [214 190 206]]]\n",
      "NB PARTITIONS :  8\n",
      "23/03/14 20:49:58 WARN NativeCodeLoader: Unable to load native-hadoop library for your platform... using builtin-java classes where applicable\n",
      "Using Spark's default log4j profile: org/apache/spark/log4j-defaults.properties\n",
      "Setting default log level to \"WARN\".\n",
      "To adjust logging level use sc.setLogLevel(newLevel). For SparkR, use setLogLevel(newLevel).\n",
      "23/03/14 20:50:00 WARN Utils: Service 'SparkUI' could not bind on port 4040. Attempting port 4041.\n",
      "CREATE NEW PICTURE FILE                                                         \n"
     ]
    }
   ],
   "source": [
    "!python median_filter.py"
   ]
  },
  {
   "cell_type": "code",
   "execution_count": null,
   "id": "66f97064",
   "metadata": {},
   "outputs": [],
   "source": []
  }
 ],
 "metadata": {
  "kernelspec": {
   "display_name": "Python 3 (ipykernel)",
   "language": "python",
   "name": "python3"
  },
  "language_info": {
   "codemirror_mode": {
    "name": "ipython",
    "version": 3
   },
   "file_extension": ".py",
   "mimetype": "text/x-python",
   "name": "python",
   "nbconvert_exporter": "python",
   "pygments_lexer": "ipython3",
   "version": "3.9.2"
  }
 },
 "nbformat": 4,
 "nbformat_minor": 5
}
